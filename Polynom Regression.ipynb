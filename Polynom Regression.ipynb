{
 "cells": [
  {
   "cell_type": "code",
   "execution_count": 1,
   "metadata": {},
   "outputs": [
    {
     "name": "stdout",
     "output_type": "stream",
     "text": [
      "WARNING:tensorflow:From /Library/Frameworks/Python.framework/Versions/3.7/lib/python3.7/site-packages/tensorflow_core/python/compat/v2_compat.py:65: disable_resource_variables (from tensorflow.python.ops.variable_scope) is deprecated and will be removed in a future version.\n",
      "Instructions for updating:\n",
      "non-resource variables are not supported in the long term\n"
     ]
    }
   ],
   "source": [
    "from sklearn.model_selection import train_test_split\n",
    "import numpy as np\n",
    "import matplotlib.pyplot as plt\n",
    "import tensorflow.compat.v1 as tf\n",
    "tf.disable_v2_behavior()\n"
   ]
  },
  {
   "cell_type": "code",
   "execution_count": 2,
   "metadata": {},
   "outputs": [],
   "source": [
    "learning_rate = 0.001\n",
    "training_epochs = 1000\n",
    "reg_lambda = 5."
   ]
  },
  {
   "cell_type": "code",
   "execution_count": 3,
   "metadata": {},
   "outputs": [],
   "source": [
    "x_dataset = np.linspace(-1, 1, 100)"
   ]
  },
  {
   "cell_type": "code",
   "execution_count": 4,
   "metadata": {},
   "outputs": [
    {
     "data": {
      "image/png": "[encoded data removed]",
      "text/plain": [
       "<Figure size 432x288 with 1 Axes>"
      ]
     },
     "metadata": {
      "needs_background": "light"
     },
     "output_type": "display_data"
    }
   ],
   "source": [
    "num_coeffs = 9\n",
    "y_dataset_params = [0.] * num_coeffs\n",
    "y_dataset_params[2] = 1\n",
    "y_dataset = 0\n",
    "for i in range(num_coeffs):\n",
    "    y_dataset += y_dataset_params[i] * np.power(x_dataset, i)\n",
    "y_dataset += np.random.randn(*x_dataset.shape) * 0.3\n",
    "\n",
    "plt.scatter(x_dataset, y_dataset)\n",
    "plt.show()"
   ]
  },
  {
   "cell_type": "code",
   "execution_count": 5,
   "metadata": {},
   "outputs": [],
   "source": [
    "(x_train, x_test, y_train, y_test) = train_test_split(x_dataset, y_dataset, test_size = 0.3, random_state = 0)"
   ]
  },
  {
   "cell_type": "code",
   "execution_count": 6,
   "metadata": {},
   "outputs": [],
   "source": [
    "X = tf.placeholder(tf.float32)\n",
    "Y = tf.placeholder(tf.float32)"
   ]
  },
  {
   "cell_type": "code",
   "execution_count": 7,
   "metadata": {},
   "outputs": [],
   "source": [
    "def model(X, w):\n",
    "    terms = []\n",
    "    for i in range(num_coeffs):\n",
    "        term = tf.multiply(w[i], tf.pow(X, i))\n",
    "        terms.append(term)\n",
    "    return tf.add_n(terms)"
   ]
  },
  {
   "cell_type": "code",
   "execution_count": 8,
   "metadata": {},
   "outputs": [
    {
     "name": "stdout",
     "output_type": "stream",
     "text": [
      "WARNING:tensorflow:From <ipython-input-8-f562dce32838>:7: div (from tensorflow.python.ops.math_ops) is deprecated and will be removed in a future version.\n",
      "Instructions for updating:\n",
      "Deprecated in favor of operator or tf.math.divide.\n"
     ]
    }
   ],
   "source": [
    "w = tf.Variable([0.] * num_coeffs, name = \"parameters\")\n",
    "y_model = model(X, w)\n",
    "cost = tf.div(\n",
    "    tf.add(tf.reduce_sum(tf.square(Y-y_model)),\n",
    "          tf.multiply(reg_lambda,\n",
    "                     tf.reduce_sum(tf.square(w))))\n",
    "    ,2*x_train.size)"
   ]
  },
  {
   "cell_type": "code",
   "execution_count": 9,
   "metadata": {},
   "outputs": [],
   "source": [
    "train_op = tf.train.GradientDescentOptimizer(learning_rate).minimize(cost)"
   ]
  },
  {
   "cell_type": "code",
   "execution_count": 10,
   "metadata": {},
   "outputs": [],
   "source": [
    "sess = tf.Session()\n",
    "init = tf.global_variables_initializer()"
   ]
  },
  {
   "cell_type": "code",
   "execution_count": 11,
   "metadata": {},
   "outputs": [],
   "source": [
    "sess.run(init)"
   ]
  },
  {
   "cell_type": "code",
   "execution_count": 12,
   "metadata": {},
   "outputs": [
    {
     "name": "stdout",
     "output_type": "stream",
     "text": [
      "reg_lambda 0.0\n",
      "reg_lambda 0.010101010101010102\n",
      "reg_lambda 0.020202020202020204\n",
      "reg_lambda 0.030303030303030304\n",
      "reg_lambda 0.04040404040404041\n",
      "reg_lambda 0.05050505050505051\n",
      "reg_lambda 0.06060606060606061\n",
      "reg_lambda 0.07070707070707072\n",
      "reg_lambda 0.08080808080808081\n",
      "reg_lambda 0.09090909090909091\n",
      "reg_lambda 0.10101010101010102\n",
      "reg_lambda 0.11111111111111112\n",
      "reg_lambda 0.12121212121212122\n",
      "reg_lambda 0.13131313131313133\n",
      "reg_lambda 0.14141414141414144\n",
      "reg_lambda 0.15151515151515152\n",
      "reg_lambda 0.16161616161616163\n",
      "reg_lambda 0.17171717171717174\n",
      "reg_lambda 0.18181818181818182\n",
      "reg_lambda 0.19191919191919193\n",
      "reg_lambda 0.20202020202020204\n",
      "reg_lambda 0.21212121212121213\n",
      "reg_lambda 0.22222222222222224\n",
      "reg_lambda 0.23232323232323235\n",
      "reg_lambda 0.24242424242424243\n",
      "reg_lambda 0.25252525252525254\n",
      "reg_lambda 0.26262626262626265\n",
      "reg_lambda 0.27272727272727276\n",
      "reg_lambda 0.2828282828282829\n",
      "reg_lambda 0.29292929292929293\n",
      "reg_lambda 0.30303030303030304\n",
      "reg_lambda 0.31313131313131315\n",
      "reg_lambda 0.32323232323232326\n",
      "reg_lambda 0.33333333333333337\n",
      "reg_lambda 0.3434343434343435\n",
      "reg_lambda 0.3535353535353536\n",
      "reg_lambda 0.36363636363636365\n",
      "reg_lambda 0.37373737373737376\n",
      "reg_lambda 0.38383838383838387\n",
      "reg_lambda 0.393939393939394\n",
      "reg_lambda 0.4040404040404041\n",
      "reg_lambda 0.4141414141414142\n",
      "reg_lambda 0.42424242424242425\n",
      "reg_lambda 0.43434343434343436\n",
      "reg_lambda 0.4444444444444445\n",
      "reg_lambda 0.4545454545454546\n",
      "reg_lambda 0.4646464646464647\n",
      "reg_lambda 0.4747474747474748\n",
      "reg_lambda 0.48484848484848486\n",
      "reg_lambda 0.494949494949495\n",
      "reg_lambda 0.5050505050505051\n",
      "reg_lambda 0.5151515151515152\n",
      "reg_lambda 0.5252525252525253\n",
      "reg_lambda 0.5353535353535354\n",
      "reg_lambda 0.5454545454545455\n",
      "reg_lambda 0.5555555555555556\n",
      "reg_lambda 0.5656565656565657\n",
      "reg_lambda 0.5757575757575758\n",
      "reg_lambda 0.5858585858585859\n",
      "reg_lambda 0.595959595959596\n",
      "reg_lambda 0.6060606060606061\n",
      "reg_lambda 0.6161616161616162\n",
      "reg_lambda 0.6262626262626263\n",
      "reg_lambda 0.6363636363636365\n",
      "reg_lambda 0.6464646464646465\n",
      "reg_lambda 0.6565656565656566\n",
      "reg_lambda 0.6666666666666667\n",
      "reg_lambda 0.6767676767676768\n",
      "reg_lambda 0.686868686868687\n",
      "reg_lambda 0.696969696969697\n",
      "reg_lambda 0.7070707070707072\n",
      "reg_lambda 0.7171717171717172\n",
      "reg_lambda 0.7272727272727273\n",
      "reg_lambda 0.7373737373737375\n",
      "reg_lambda 0.7474747474747475\n",
      "reg_lambda 0.7575757575757577\n",
      "reg_lambda 0.7676767676767677\n",
      "reg_lambda 0.7777777777777778\n",
      "reg_lambda 0.787878787878788\n",
      "reg_lambda 0.797979797979798\n",
      "reg_lambda 0.8080808080808082\n",
      "reg_lambda 0.8181818181818182\n",
      "reg_lambda 0.8282828282828284\n",
      "reg_lambda 0.8383838383838385\n",
      "reg_lambda 0.8484848484848485\n",
      "reg_lambda 0.8585858585858587\n",
      "reg_lambda 0.8686868686868687\n",
      "reg_lambda 0.8787878787878789\n",
      "reg_lambda 0.888888888888889\n",
      "reg_lambda 0.8989898989898991\n",
      "reg_lambda 0.9090909090909092\n",
      "reg_lambda 0.9191919191919192\n",
      "reg_lambda 0.9292929292929294\n",
      "reg_lambda 0.9393939393939394\n",
      "reg_lambda 0.9494949494949496\n",
      "reg_lambda 0.9595959595959597\n",
      "reg_lambda 0.9696969696969697\n",
      "reg_lambda 0.9797979797979799\n",
      "reg_lambda 0.98989898989899\n",
      "reg_lambda 1.0\n",
      "final cost 0.029636469\n",
      "[ 0.13705009 -0.01908072  0.35493577  0.03219379  0.2878155   0.0175521\n",
      "  0.22533049  0.00365725  0.18322717]\n"
     ]
    }
   ],
   "source": [
    "for reg_lambda in np.linspace(0,1,100):\n",
    "    for epoch in range(training_epochs):\n",
    "        sess.run(train_op, feed_dict={X: x_train, Y: y_train})\n",
    "    final_cost = sess.run(cost, feed_dict={X: x_test, Y: y_test})\n",
    "    print('reg_lambda', reg_lambda)\n",
    "    \n",
    "print('final cost', final_cost)\n",
    "\n",
    "w_val = sess.run(w)\n",
    "\n",
    "print(w_val)"
   ]
  },
  {
   "cell_type": "code",
   "execution_count": 13,
   "metadata": {},
   "outputs": [],
   "source": [
    "sess.close()"
   ]
  },
  {
   "cell_type": "code",
   "execution_count": 14,
   "metadata": {},
   "outputs": [
    {
     "data": {
      "image/png": "[encoded data removed]",
      "text/plain": [
       "<Figure size 432x288 with 1 Axes>"
      ]
     },
     "metadata": {
      "needs_background": "light"
     },
     "output_type": "display_data"
    }
   ],
   "source": [
    "plt.scatter(x_dataset, y_dataset)\n",
    "trY2 = 0\n",
    "\n",
    "for i in range(num_coeffs):\n",
    "    trY2 += w_val[i] * np.power(x_dataset, i)\n",
    "    \n",
    "plt.plot(x_dataset, trY2, 'r')\n",
    "plt.show()"
   ]
  }
 ],
 "metadata": {
  "kernelspec": {
   "display_name": "Python 3",
   "language": "python",
   "name": "python3"
  },
  "language_info": {
   "codemirror_mode": {
    "name": "ipython",
    "version": 3
   },
   "file_extension": ".py",
   "mimetype": "text/x-python",
   "name": "python",
   "nbconvert_exporter": "python",
   "pygments_lexer": "ipython3",
   "version": "3.7.5"
  }
 },
 "nbformat": 4,
 "nbformat_minor": 2
}
